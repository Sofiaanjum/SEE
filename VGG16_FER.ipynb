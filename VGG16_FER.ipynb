{
  "cells": [
    {
      "cell_type": "markdown",
      "source": [
        "source: https://www.kaggle.com/code/enesztrk/facial-emotion-recognition-vgg19-fer2013"
      ],
      "metadata": {
        "id": "q6tWG03UcA0y"
      },
      "id": "q6tWG03UcA0y"
    },
    {
      "cell_type": "code",
      "execution_count": null,
      "id": "82615685",
      "metadata": {
        "id": "82615685"
      },
      "outputs": [],
      "source": [
        "import math\n",
        "import numpy as np\n",
        "import pandas as pd\n",
        "\n",
        "import cv2\n",
        "import seaborn as sns\n",
        "from matplotlib import pyplot\n",
        "\n",
        "from sklearn.model_selection import train_test_split\n",
        "from sklearn.preprocessing import LabelEncoder\n",
        "from sklearn.metrics import classification_report\n",
        "\n",
        "import tensorflow as tf\n",
        "from tensorflow.keras import optimizers\n",
        "from tensorflow.keras.models import Model\n",
        "from tensorflow.keras.layers import Flatten, Dense, Conv2D, GlobalAveragePooling2D\n",
        "from tensorflow.keras.layers import Dropout, BatchNormalization, Activation\n",
        "from tensorflow.keras.callbacks import Callback, EarlyStopping, ReduceLROnPlateau\n",
        "from tensorflow.keras.preprocessing.image import ImageDataGenerator\n",
        "\n",
        "from keras.utils import np_utils"
      ]
    },
    {
      "cell_type": "code",
      "source": [
        "from google.colab import drive\n",
        "drive.mount('/content/drive')"
      ],
      "metadata": {
        "colab": {
          "base_uri": "https://localhost:8080/"
        },
        "id": "qA7qI-6HYWmm",
        "outputId": "b8b8c7ee-f9a3-407a-f149-fc348c1a2a98"
      },
      "id": "qA7qI-6HYWmm",
      "execution_count": null,
      "outputs": [
        {
          "output_type": "stream",
          "name": "stdout",
          "text": [
            "Mounted at /content/drive\n"
          ]
        }
      ]
    },
    {
      "cell_type": "code",
      "source": [
        "%cd /content/drive/MyDrive/Humber AI ML/AIGC 5505 - FER/VGG16"
      ],
      "metadata": {
        "colab": {
          "base_uri": "https://localhost:8080/"
        },
        "id": "Lp2mTLsIYr_k",
        "outputId": "6c9aca7a-510b-4c82-ba35-1f3722e4370d"
      },
      "id": "Lp2mTLsIYr_k",
      "execution_count": null,
      "outputs": [
        {
          "output_type": "stream",
          "name": "stdout",
          "text": [
            "/content/drive/MyDrive/Humber AI ML/AIGC 5505 - FER/VGG16\n"
          ]
        }
      ]
    },
    {
      "cell_type": "markdown",
      "id": "952ae60f",
      "metadata": {
        "id": "952ae60f"
      },
      "source": [
        "# Reading the Data"
      ]
    },
    {
      "cell_type": "code",
      "execution_count": null,
      "id": "d788f934",
      "metadata": {
        "id": "d788f934"
      },
      "outputs": [],
      "source": [
        "df = pd.read_csv(\"../train.csv\")"
      ]
    },
    {
      "cell_type": "code",
      "execution_count": null,
      "id": "f13b8150",
      "metadata": {
        "colab": {
          "base_uri": "https://localhost:8080/",
          "height": 206
        },
        "id": "f13b8150",
        "outputId": "ad77de83-10e9-4287-83b8-d2577d82add2"
      },
      "outputs": [
        {
          "output_type": "execute_result",
          "data": {
            "text/plain": [
              "   emotion                                             pixels\n",
              "0        0  70 80 82 72 58 58 60 63 54 58 60 48 89 115 121...\n",
              "1        0  151 150 147 155 148 133 111 140 170 174 182 15...\n",
              "2        2  231 212 156 164 174 138 161 173 182 200 106 38...\n",
              "3        4  24 32 36 30 32 23 19 20 30 41 21 22 32 34 21 1...\n",
              "4        6  4 0 0 0 0 0 0 0 0 0 0 0 3 15 23 28 48 50 58 84..."
            ],
            "text/html": [
              "\n",
              "\n",
              "  <div id=\"df-63cbc3ba-74b0-4b13-b845-b7c5ba0e7f74\">\n",
              "    <div class=\"colab-df-container\">\n",
              "      <div>\n",
              "<style scoped>\n",
              "    .dataframe tbody tr th:only-of-type {\n",
              "        vertical-align: middle;\n",
              "    }\n",
              "\n",
              "    .dataframe tbody tr th {\n",
              "        vertical-align: top;\n",
              "    }\n",
              "\n",
              "    .dataframe thead th {\n",
              "        text-align: right;\n",
              "    }\n",
              "</style>\n",
              "<table border=\"1\" class=\"dataframe\">\n",
              "  <thead>\n",
              "    <tr style=\"text-align: right;\">\n",
              "      <th></th>\n",
              "      <th>emotion</th>\n",
              "      <th>pixels</th>\n",
              "    </tr>\n",
              "  </thead>\n",
              "  <tbody>\n",
              "    <tr>\n",
              "      <th>0</th>\n",
              "      <td>0</td>\n",
              "      <td>70 80 82 72 58 58 60 63 54 58 60 48 89 115 121...</td>\n",
              "    </tr>\n",
              "    <tr>\n",
              "      <th>1</th>\n",
              "      <td>0</td>\n",
              "      <td>151 150 147 155 148 133 111 140 170 174 182 15...</td>\n",
              "    </tr>\n",
              "    <tr>\n",
              "      <th>2</th>\n",
              "      <td>2</td>\n",
              "      <td>231 212 156 164 174 138 161 173 182 200 106 38...</td>\n",
              "    </tr>\n",
              "    <tr>\n",
              "      <th>3</th>\n",
              "      <td>4</td>\n",
              "      <td>24 32 36 30 32 23 19 20 30 41 21 22 32 34 21 1...</td>\n",
              "    </tr>\n",
              "    <tr>\n",
              "      <th>4</th>\n",
              "      <td>6</td>\n",
              "      <td>4 0 0 0 0 0 0 0 0 0 0 0 3 15 23 28 48 50 58 84...</td>\n",
              "    </tr>\n",
              "  </tbody>\n",
              "</table>\n",
              "</div>\n",
              "      <button class=\"colab-df-convert\" onclick=\"convertToInteractive('df-63cbc3ba-74b0-4b13-b845-b7c5ba0e7f74')\"\n",
              "              title=\"Convert this dataframe to an interactive table.\"\n",
              "              style=\"display:none;\">\n",
              "\n",
              "  <svg xmlns=\"http://www.w3.org/2000/svg\" height=\"24px\"viewBox=\"0 0 24 24\"\n",
              "       width=\"24px\">\n",
              "    <path d=\"M0 0h24v24H0V0z\" fill=\"none\"/>\n",
              "    <path d=\"M18.56 5.44l.94 2.06.94-2.06 2.06-.94-2.06-.94-.94-2.06-.94 2.06-2.06.94zm-11 1L8.5 8.5l.94-2.06 2.06-.94-2.06-.94L8.5 2.5l-.94 2.06-2.06.94zm10 10l.94 2.06.94-2.06 2.06-.94-2.06-.94-.94-2.06-.94 2.06-2.06.94z\"/><path d=\"M17.41 7.96l-1.37-1.37c-.4-.4-.92-.59-1.43-.59-.52 0-1.04.2-1.43.59L10.3 9.45l-7.72 7.72c-.78.78-.78 2.05 0 2.83L4 21.41c.39.39.9.59 1.41.59.51 0 1.02-.2 1.41-.59l7.78-7.78 2.81-2.81c.8-.78.8-2.07 0-2.86zM5.41 20L4 18.59l7.72-7.72 1.47 1.35L5.41 20z\"/>\n",
              "  </svg>\n",
              "      </button>\n",
              "\n",
              "\n",
              "\n",
              "    <div id=\"df-46dac11d-17fc-4eac-8be1-978b700734d0\">\n",
              "      <button class=\"colab-df-quickchart\" onclick=\"quickchart('df-46dac11d-17fc-4eac-8be1-978b700734d0')\"\n",
              "              title=\"Suggest charts.\"\n",
              "              style=\"display:none;\">\n",
              "\n",
              "<svg xmlns=\"http://www.w3.org/2000/svg\" height=\"24px\"viewBox=\"0 0 24 24\"\n",
              "     width=\"24px\">\n",
              "    <g>\n",
              "        <path d=\"M19 3H5c-1.1 0-2 .9-2 2v14c0 1.1.9 2 2 2h14c1.1 0 2-.9 2-2V5c0-1.1-.9-2-2-2zM9 17H7v-7h2v7zm4 0h-2V7h2v10zm4 0h-2v-4h2v4z\"/>\n",
              "    </g>\n",
              "</svg>\n",
              "      </button>\n",
              "    </div>\n",
              "\n",
              "<style>\n",
              "  .colab-df-quickchart {\n",
              "    background-color: #E8F0FE;\n",
              "    border: none;\n",
              "    border-radius: 50%;\n",
              "    cursor: pointer;\n",
              "    display: none;\n",
              "    fill: #1967D2;\n",
              "    height: 32px;\n",
              "    padding: 0 0 0 0;\n",
              "    width: 32px;\n",
              "  }\n",
              "\n",
              "  .colab-df-quickchart:hover {\n",
              "    background-color: #E2EBFA;\n",
              "    box-shadow: 0px 1px 2px rgba(60, 64, 67, 0.3), 0px 1px 3px 1px rgba(60, 64, 67, 0.15);\n",
              "    fill: #174EA6;\n",
              "  }\n",
              "\n",
              "  [theme=dark] .colab-df-quickchart {\n",
              "    background-color: #3B4455;\n",
              "    fill: #D2E3FC;\n",
              "  }\n",
              "\n",
              "  [theme=dark] .colab-df-quickchart:hover {\n",
              "    background-color: #434B5C;\n",
              "    box-shadow: 0px 1px 3px 1px rgba(0, 0, 0, 0.15);\n",
              "    filter: drop-shadow(0px 1px 2px rgba(0, 0, 0, 0.3));\n",
              "    fill: #FFFFFF;\n",
              "  }\n",
              "</style>\n",
              "\n",
              "    <script>\n",
              "      async function quickchart(key) {\n",
              "        const containerElement = document.querySelector('#' + key);\n",
              "        const charts = await google.colab.kernel.invokeFunction(\n",
              "            'suggestCharts', [key], {});\n",
              "      }\n",
              "    </script>\n",
              "\n",
              "      <script>\n",
              "\n",
              "function displayQuickchartButton(domScope) {\n",
              "  let quickchartButtonEl =\n",
              "    domScope.querySelector('#df-46dac11d-17fc-4eac-8be1-978b700734d0 button.colab-df-quickchart');\n",
              "  quickchartButtonEl.style.display =\n",
              "    google.colab.kernel.accessAllowed ? 'block' : 'none';\n",
              "}\n",
              "\n",
              "        displayQuickchartButton(document);\n",
              "      </script>\n",
              "      <style>\n",
              "    .colab-df-container {\n",
              "      display:flex;\n",
              "      flex-wrap:wrap;\n",
              "      gap: 12px;\n",
              "    }\n",
              "\n",
              "    .colab-df-convert {\n",
              "      background-color: #E8F0FE;\n",
              "      border: none;\n",
              "      border-radius: 50%;\n",
              "      cursor: pointer;\n",
              "      display: none;\n",
              "      fill: #1967D2;\n",
              "      height: 32px;\n",
              "      padding: 0 0 0 0;\n",
              "      width: 32px;\n",
              "    }\n",
              "\n",
              "    .colab-df-convert:hover {\n",
              "      background-color: #E2EBFA;\n",
              "      box-shadow: 0px 1px 2px rgba(60, 64, 67, 0.3), 0px 1px 3px 1px rgba(60, 64, 67, 0.15);\n",
              "      fill: #174EA6;\n",
              "    }\n",
              "\n",
              "    [theme=dark] .colab-df-convert {\n",
              "      background-color: #3B4455;\n",
              "      fill: #D2E3FC;\n",
              "    }\n",
              "\n",
              "    [theme=dark] .colab-df-convert:hover {\n",
              "      background-color: #434B5C;\n",
              "      box-shadow: 0px 1px 3px 1px rgba(0, 0, 0, 0.15);\n",
              "      filter: drop-shadow(0px 1px 2px rgba(0, 0, 0, 0.3));\n",
              "      fill: #FFFFFF;\n",
              "    }\n",
              "  </style>\n",
              "\n",
              "      <script>\n",
              "        const buttonEl =\n",
              "          document.querySelector('#df-63cbc3ba-74b0-4b13-b845-b7c5ba0e7f74 button.colab-df-convert');\n",
              "        buttonEl.style.display =\n",
              "          google.colab.kernel.accessAllowed ? 'block' : 'none';\n",
              "\n",
              "        async function convertToInteractive(key) {\n",
              "          const element = document.querySelector('#df-63cbc3ba-74b0-4b13-b845-b7c5ba0e7f74');\n",
              "          const dataTable =\n",
              "            await google.colab.kernel.invokeFunction('convertToInteractive',\n",
              "                                                     [key], {});\n",
              "          if (!dataTable) return;\n",
              "\n",
              "          const docLinkHtml = 'Like what you see? Visit the ' +\n",
              "            '<a target=\"_blank\" href=https://colab.research.google.com/notebooks/data_table.ipynb>data table notebook</a>'\n",
              "            + ' to learn more about interactive tables.';\n",
              "          element.innerHTML = '';\n",
              "          dataTable['output_type'] = 'display_data';\n",
              "          await google.colab.output.renderOutput(dataTable, element);\n",
              "          const docLink = document.createElement('div');\n",
              "          docLink.innerHTML = docLinkHtml;\n",
              "          element.appendChild(docLink);\n",
              "        }\n",
              "      </script>\n",
              "    </div>\n",
              "  </div>\n"
            ]
          },
          "metadata": {},
          "execution_count": 5
        }
      ],
      "source": [
        "df.head()"
      ]
    },
    {
      "cell_type": "code",
      "execution_count": null,
      "id": "886ddf28",
      "metadata": {
        "colab": {
          "base_uri": "https://localhost:8080/"
        },
        "id": "886ddf28",
        "outputId": "cd9203b4-06af-4cd4-ef8d-02fa51114876"
      },
      "outputs": [
        {
          "output_type": "execute_result",
          "data": {
            "text/plain": [
              "(28709, 2)"
            ]
          },
          "metadata": {},
          "execution_count": 6
        }
      ],
      "source": [
        "df.shape"
      ]
    },
    {
      "cell_type": "code",
      "source": [
        "emotion_label_to_text = {0:'anger', 1:'disgust', 2:'fear', 3:'happiness', 4: 'sadness', 5: 'surprise', 6: 'neutral'}"
      ],
      "metadata": {
        "id": "ysB4p0bGZIvG"
      },
      "id": "ysB4p0bGZIvG",
      "execution_count": null,
      "outputs": []
    },
    {
      "cell_type": "markdown",
      "id": "b0a73b8f",
      "metadata": {
        "id": "b0a73b8f"
      },
      "source": [
        "Note: 28,709 images in the training set"
      ]
    },
    {
      "cell_type": "code",
      "execution_count": null,
      "id": "624bd0be",
      "metadata": {
        "id": "624bd0be"
      },
      "outputs": [],
      "source": [
        "def positive_negative(x):\n",
        "    if x in [0,1,2,4]:\n",
        "        return 0 #negative\n",
        "    elif x in [3,5]:\n",
        "        return 2 #positive\n",
        "    else:\n",
        "        return 1 #neutral"
      ]
    },
    {
      "cell_type": "code",
      "execution_count": null,
      "id": "1d38b5c6",
      "metadata": {
        "id": "1d38b5c6"
      },
      "outputs": [],
      "source": [
        "df['labels'] = df.apply(lambda x: positive_negative(x['emotion']), axis=1)"
      ]
    },
    {
      "cell_type": "code",
      "execution_count": null,
      "id": "822dd07f",
      "metadata": {
        "id": "822dd07f"
      },
      "outputs": [],
      "source": [
        "# Get the labels\n",
        "labels = np.array(df['labels'])"
      ]
    },
    {
      "cell_type": "code",
      "execution_count": null,
      "id": "616b694f",
      "metadata": {
        "colab": {
          "base_uri": "https://localhost:8080/"
        },
        "id": "616b694f",
        "outputId": "d3e1f37e-e694-4de8-9652-589d2e589678"
      },
      "outputs": [
        {
          "output_type": "execute_result",
          "data": {
            "text/plain": [
              "0    13358\n",
              "2    10386\n",
              "1     4965\n",
              "Name: labels, dtype: int64"
            ]
          },
          "metadata": {},
          "execution_count": 11
        }
      ],
      "source": [
        "df['labels'].value_counts()"
      ]
    },
    {
      "cell_type": "code",
      "source": [
        "# Change labels to one hot\n",
        "labels = np_utils.to_categorical(labels, num_classes=3)"
      ],
      "metadata": {
        "id": "6aBrpQzka3Yp"
      },
      "id": "6aBrpQzka3Yp",
      "execution_count": null,
      "outputs": []
    },
    {
      "cell_type": "code",
      "execution_count": null,
      "id": "c9099f2f",
      "metadata": {
        "id": "c9099f2f"
      },
      "outputs": [],
      "source": [
        "# Extract the pixels and reshape them into a 48x48 image\n",
        "images = []\n",
        "for image_pixels in df.iloc[:,1]: # column 2 has the pixels\n",
        "    image_string = image_pixels.split(' ') # pixels are separated by spaces\n",
        "    # get the integer value and reshape into 2D\n",
        "    image_data = np.asarray(image_string, dtype=np.uint8).reshape(48,48)\n",
        "    images.append(image_data)"
      ]
    },
    {
      "cell_type": "code",
      "execution_count": null,
      "id": "e9eaabdd",
      "metadata": {
        "id": "e9eaabdd"
      },
      "outputs": [],
      "source": [
        "images = np.array(images)"
      ]
    },
    {
      "cell_type": "code",
      "execution_count": null,
      "id": "d94998ef",
      "metadata": {
        "colab": {
          "base_uri": "https://localhost:8080/"
        },
        "id": "d94998ef",
        "outputId": "0ab89b25-ed77-40b6-dc8a-ffae68ddede9"
      },
      "outputs": [
        {
          "output_type": "execute_result",
          "data": {
            "text/plain": [
              "(28709, 48, 48)"
            ]
          },
          "metadata": {},
          "execution_count": 15
        }
      ],
      "source": [
        "images.shape"
      ]
    },
    {
      "cell_type": "markdown",
      "source": [
        "## Extracting Features to RGB"
      ],
      "metadata": {
        "id": "Ke1n6vFHZr0F"
      },
      "id": "Ke1n6vFHZr0F"
    },
    {
      "cell_type": "code",
      "source": [
        "img_features = []\n",
        "\n",
        "for i in range(len(images)):\n",
        "    temp = cv2.cvtColor(images[i], cv2.COLOR_GRAY2RGB)\n",
        "    img_features.append(temp)\n",
        "\n",
        "img_features = np.array(img_features)\n",
        "print(img_features.shape)"
      ],
      "metadata": {
        "colab": {
          "base_uri": "https://localhost:8080/"
        },
        "id": "Dx8a6OpbZvXc",
        "outputId": "5d3746c8-b2b0-4149-e8ed-17575787682a"
      },
      "id": "Dx8a6OpbZvXc",
      "execution_count": null,
      "outputs": [
        {
          "output_type": "stream",
          "name": "stdout",
          "text": [
            "(28709, 48, 48, 3)\n"
          ]
        }
      ]
    },
    {
      "cell_type": "code",
      "source": [
        "plt.imshow(img_features[0].astype(np.uint8));"
      ],
      "metadata": {
        "colab": {
          "base_uri": "https://localhost:8080/",
          "height": 431
        },
        "id": "_YbRhHLbZ29Y",
        "outputId": "a25902f4-41e9-43b7-e397-40ea928a62db"
      },
      "id": "_YbRhHLbZ29Y",
      "execution_count": null,
      "outputs": [
        {
          "output_type": "display_data",
          "data": {
            "text/plain": [
              "<Figure size 640x480 with 1 Axes>"
            ],
            "image/png": "[encoded data removed]"
          },
          "metadata": {}
        }
      ]
    },
    {
      "cell_type": "markdown",
      "id": "72363032",
      "metadata": {
        "id": "72363032"
      },
      "source": [
        "# Model Building"
      ]
    },
    {
      "cell_type": "code",
      "execution_count": null,
      "id": "93b6ae57",
      "metadata": {
        "colab": {
          "base_uri": "https://localhost:8080/"
        },
        "id": "93b6ae57",
        "outputId": "c6dd1ff8-f323-40a9-b74f-660c3053fb22"
      },
      "outputs": [
        {
          "output_type": "execute_result",
          "data": {
            "text/plain": [
              "((25838, 48, 48, 3), (2871, 48, 48, 3), (25838, 3), (2871, 3))"
            ]
          },
          "metadata": {},
          "execution_count": 18
        }
      ],
      "source": [
        "# Splitting the data\n",
        "X_train, X_valid, y_train, y_valid = train_test_split(img_features,\n",
        "                                                      labels,\n",
        "                                                      shuffle = True,\n",
        "                                                      stratify = labels,\n",
        "                                                      test_size = 0.1,\n",
        "                                                      random_state = 42)\n",
        "X_train.shape, X_valid.shape, y_train.shape, y_valid.shape"
      ]
    },
    {
      "cell_type": "code",
      "source": [
        "img_width = X_train.shape[1]\n",
        "img_height = X_train.shape[2]\n",
        "img_depth = X_train.shape[3]\n",
        "num_classes = y_train.shape[1]"
      ],
      "metadata": {
        "id": "3mSVyhCjaRUe"
      },
      "id": "3mSVyhCjaRUe",
      "execution_count": null,
      "outputs": []
    },
    {
      "cell_type": "code",
      "source": [
        "# Standardize dataset.\n",
        "X_train = X_train / 255.\n",
        "X_valid = X_valid / 255."
      ],
      "metadata": {
        "id": "hlqJiF7vaNIf"
      },
      "id": "hlqJiF7vaNIf",
      "execution_count": null,
      "outputs": []
    },
    {
      "cell_type": "code",
      "source": [
        "vgg = tf.keras.applications.VGG16(weights = 'imagenet',\n",
        "                                  include_top = False,\n",
        "                                  input_shape = (48, 48, 3))"
      ],
      "metadata": {
        "colab": {
          "base_uri": "https://localhost:8080/"
        },
        "id": "HF3y-Lq1bK9H",
        "outputId": "19b34bc8-8105-4cf0-d226-7ecb858f13d1"
      },
      "id": "HF3y-Lq1bK9H",
      "execution_count": null,
      "outputs": [
        {
          "output_type": "stream",
          "name": "stdout",
          "text": [
            "Downloading data from https://storage.googleapis.com/tensorflow/keras-applications/vgg16/vgg16_weights_tf_dim_ordering_tf_kernels_notop.h5\n",
            "58889256/58889256 [==============================] - 0s 0us/step\n"
          ]
        }
      ]
    },
    {
      "cell_type": "code",
      "source": [
        "vgg.summary()"
      ],
      "metadata": {
        "colab": {
          "base_uri": "https://localhost:8080/"
        },
        "id": "d7bdKBBCbLNv",
        "outputId": "d78b20ab-db51-414b-a11f-3c619b01f2fc"
      },
      "id": "d7bdKBBCbLNv",
      "execution_count": null,
      "outputs": [
        {
          "output_type": "stream",
          "name": "stdout",
          "text": [
            "Model: \"vgg16\"\n",
            "_________________________________________________________________\n",
            " Layer (type)                Output Shape              Param #   \n",
            "=================================================================\n",
            " input_1 (InputLayer)        [(None, 48, 48, 3)]       0         \n",
            "                                                                 \n",
            " block1_conv1 (Conv2D)       (None, 48, 48, 64)        1792      \n",
            "                                                                 \n",
            " block1_conv2 (Conv2D)       (None, 48, 48, 64)        36928     \n",
            "                                                                 \n",
            " block1_pool (MaxPooling2D)  (None, 24, 24, 64)        0         \n",
            "                                                                 \n",
            " block2_conv1 (Conv2D)       (None, 24, 24, 128)       73856     \n",
            "                                                                 \n",
            " block2_conv2 (Conv2D)       (None, 24, 24, 128)       147584    \n",
            "                                                                 \n",
            " block2_pool (MaxPooling2D)  (None, 12, 12, 128)       0         \n",
            "                                                                 \n",
            " block3_conv1 (Conv2D)       (None, 12, 12, 256)       295168    \n",
            "                                                                 \n",
            " block3_conv2 (Conv2D)       (None, 12, 12, 256)       590080    \n",
            "                                                                 \n",
            " block3_conv3 (Conv2D)       (None, 12, 12, 256)       590080    \n",
            "                                                                 \n",
            " block3_pool (MaxPooling2D)  (None, 6, 6, 256)         0         \n",
            "                                                                 \n",
            " block4_conv1 (Conv2D)       (None, 6, 6, 512)         1180160   \n",
            "                                                                 \n",
            " block4_conv2 (Conv2D)       (None, 6, 6, 512)         2359808   \n",
            "                                                                 \n",
            " block4_conv3 (Conv2D)       (None, 6, 6, 512)         2359808   \n",
            "                                                                 \n",
            " block4_pool (MaxPooling2D)  (None, 3, 3, 512)         0         \n",
            "                                                                 \n",
            " block5_conv1 (Conv2D)       (None, 3, 3, 512)         2359808   \n",
            "                                                                 \n",
            " block5_conv2 (Conv2D)       (None, 3, 3, 512)         2359808   \n",
            "                                                                 \n",
            " block5_conv3 (Conv2D)       (None, 3, 3, 512)         2359808   \n",
            "                                                                 \n",
            " block5_pool (MaxPooling2D)  (None, 1, 1, 512)         0         \n",
            "                                                                 \n",
            "=================================================================\n",
            "Total params: 14,714,688\n",
            "Trainable params: 14,714,688\n",
            "Non-trainable params: 0\n",
            "_________________________________________________________________\n"
          ]
        }
      ]
    },
    {
      "cell_type": "code",
      "source": [
        "def build_model(bottom_model, classes):\n",
        "    model = bottom_model.layers[-2].output\n",
        "    model = GlobalAveragePooling2D()(model)\n",
        "    model = Dense(classes, activation = 'softmax', name = 'out_layer')(model)\n",
        "\n",
        "    return model"
      ],
      "metadata": {
        "id": "a1FBAIKObPS-"
      },
      "id": "a1FBAIKObPS-",
      "execution_count": null,
      "outputs": []
    },
    {
      "cell_type": "code",
      "source": [
        "head = build_model(vgg, num_classes)\n",
        "\n",
        "model = Model(inputs = vgg.input, outputs = head)\n",
        "\n",
        "print(model.summary())"
      ],
      "metadata": {
        "colab": {
          "base_uri": "https://localhost:8080/"
        },
        "id": "FSsACOqhbUi_",
        "outputId": "ed0a267d-d92b-45fd-e2e6-e8689ec1cb10"
      },
      "id": "FSsACOqhbUi_",
      "execution_count": null,
      "outputs": [
        {
          "output_type": "stream",
          "name": "stdout",
          "text": [
            "Model: \"model\"\n",
            "_________________________________________________________________\n",
            " Layer (type)                Output Shape              Param #   \n",
            "=================================================================\n",
            " input_1 (InputLayer)        [(None, 48, 48, 3)]       0         \n",
            "                                                                 \n",
            " block1_conv1 (Conv2D)       (None, 48, 48, 64)        1792      \n",
            "                                                                 \n",
            " block1_conv2 (Conv2D)       (None, 48, 48, 64)        36928     \n",
            "                                                                 \n",
            " block1_pool (MaxPooling2D)  (None, 24, 24, 64)        0         \n",
            "                                                                 \n",
            " block2_conv1 (Conv2D)       (None, 24, 24, 128)       73856     \n",
            "                                                                 \n",
            " block2_conv2 (Conv2D)       (None, 24, 24, 128)       147584    \n",
            "                                                                 \n",
            " block2_pool (MaxPooling2D)  (None, 12, 12, 128)       0         \n",
            "                                                                 \n",
            " block3_conv1 (Conv2D)       (None, 12, 12, 256)       295168    \n",
            "                                                                 \n",
            " block3_conv2 (Conv2D)       (None, 12, 12, 256)       590080    \n",
            "                                                                 \n",
            " block3_conv3 (Conv2D)       (None, 12, 12, 256)       590080    \n",
            "                                                                 \n",
            " block3_pool (MaxPooling2D)  (None, 6, 6, 256)         0         \n",
            "                                                                 \n",
            " block4_conv1 (Conv2D)       (None, 6, 6, 512)         1180160   \n",
            "                                                                 \n",
            " block4_conv2 (Conv2D)       (None, 6, 6, 512)         2359808   \n",
            "                                                                 \n",
            " block4_conv3 (Conv2D)       (None, 6, 6, 512)         2359808   \n",
            "                                                                 \n",
            " block4_pool (MaxPooling2D)  (None, 3, 3, 512)         0         \n",
            "                                                                 \n",
            " block5_conv1 (Conv2D)       (None, 3, 3, 512)         2359808   \n",
            "                                                                 \n",
            " block5_conv2 (Conv2D)       (None, 3, 3, 512)         2359808   \n",
            "                                                                 \n",
            " block5_conv3 (Conv2D)       (None, 3, 3, 512)         2359808   \n",
            "                                                                 \n",
            " global_average_pooling2d (G  (None, 512)              0         \n",
            " lobalAveragePooling2D)                                          \n",
            "                                                                 \n",
            " out_layer (Dense)           (None, 3)                 1539      \n",
            "                                                                 \n",
            "=================================================================\n",
            "Total params: 14,716,227\n",
            "Trainable params: 14,716,227\n",
            "Non-trainable params: 0\n",
            "_________________________________________________________________\n",
            "None\n"
          ]
        }
      ]
    },
    {
      "cell_type": "code",
      "source": [
        "early_stopping = EarlyStopping(monitor = 'val_accuracy',\n",
        "                               min_delta = 0.00005,\n",
        "                               patience = 11,\n",
        "                               verbose = 1,\n",
        "                               restore_best_weights = True,)\n",
        "\n",
        "lr_scheduler = ReduceLROnPlateau(monitor = 'val_accuracy',\n",
        "                                 factor = 0.5,\n",
        "                                 patience = 7,\n",
        "                                 min_lr = 1e-7,\n",
        "                                 verbose = 1,)\n",
        "\n",
        "callbacks = [early_stopping,lr_scheduler,]"
      ],
      "metadata": {
        "id": "q1Eh1AxhbWd3"
      },
      "id": "q1Eh1AxhbWd3",
      "execution_count": null,
      "outputs": []
    },
    {
      "cell_type": "code",
      "source": [
        "train_datagen = ImageDataGenerator(rotation_range = 15,\n",
        "                                   width_shift_range = 0.15,\n",
        "                                   height_shift_range = 0.15,\n",
        "                                   shear_range = 0.15,\n",
        "                                   zoom_range = 0.15,\n",
        "                                   horizontal_flip = True,)\n",
        "train_datagen.fit(X_train)"
      ],
      "metadata": {
        "id": "mYca6YsXbe3f"
      },
      "id": "mYca6YsXbe3f",
      "execution_count": null,
      "outputs": []
    },
    {
      "cell_type": "code",
      "source": [
        "batch_size = 32\n",
        "epochs = 25\n",
        "optims = [optimizers.Adam(learning_rate = 0.0001, beta_1 = 0.9, beta_2 = 0.999),]\n",
        "\n",
        "model.compile(loss = 'categorical_crossentropy',\n",
        "              optimizer = optims[0],\n",
        "              metrics = ['accuracy'])"
      ],
      "metadata": {
        "id": "FEvgRufBbgnP"
      },
      "id": "FEvgRufBbgnP",
      "execution_count": null,
      "outputs": []
    },
    {
      "cell_type": "code",
      "source": [
        "history = model.fit(train_datagen.flow(X_train,\n",
        "                                       y_train,\n",
        "                                       batch_size = batch_size),\n",
        "                                       validation_data = (X_valid, y_valid),\n",
        "                                       steps_per_epoch = len(X_train) / batch_size,\n",
        "                                       epochs = epochs,\n",
        "                                       callbacks = callbacks,\n",
        "                                       use_multiprocessing = True)"
      ],
      "metadata": {
        "colab": {
          "base_uri": "https://localhost:8080/"
        },
        "id": "YJegfdJdbjUD",
        "outputId": "f84c957d-2d66-449c-948e-89d4dcaea378"
      },
      "id": "YJegfdJdbjUD",
      "execution_count": null,
      "outputs": [
        {
          "output_type": "stream",
          "name": "stdout",
          "text": [
            "Epoch 1/25\n",
            "807/807 [==============================] - 79s 74ms/step - loss: 0.8417 - accuracy: 0.6078 - val_loss: 0.6560 - val_accuracy: 0.7214 - lr: 1.0000e-04\n",
            "Epoch 2/25\n",
            "807/807 [==============================] - 61s 75ms/step - loss: 0.6616 - accuracy: 0.7173 - val_loss: 0.5787 - val_accuracy: 0.7590 - lr: 1.0000e-04\n",
            "Epoch 3/25\n",
            "807/807 [==============================] - 59s 73ms/step - loss: 0.6057 - accuracy: 0.7460 - val_loss: 0.5494 - val_accuracy: 0.7722 - lr: 1.0000e-04\n",
            "Epoch 4/25\n",
            "807/807 [==============================] - 60s 74ms/step - loss: 0.5742 - accuracy: 0.7623 - val_loss: 0.5223 - val_accuracy: 0.7816 - lr: 1.0000e-04\n",
            "Epoch 5/25\n",
            "807/807 [==============================] - 59s 72ms/step - loss: 0.5450 - accuracy: 0.7744 - val_loss: 0.5111 - val_accuracy: 0.7924 - lr: 1.0000e-04\n",
            "Epoch 6/25\n",
            "807/807 [==============================] - 59s 73ms/step - loss: 0.5240 - accuracy: 0.7824 - val_loss: 0.5207 - val_accuracy: 0.7799 - lr: 1.0000e-04\n",
            "Epoch 7/25\n",
            "807/807 [==============================] - 57s 70ms/step - loss: 0.5077 - accuracy: 0.7870 - val_loss: 0.5322 - val_accuracy: 0.7746 - lr: 1.0000e-04\n",
            "Epoch 8/25\n",
            "807/807 [==============================] - 57s 70ms/step - loss: 0.4910 - accuracy: 0.7972 - val_loss: 0.4860 - val_accuracy: 0.8042 - lr: 1.0000e-04\n",
            "Epoch 9/25\n",
            "807/807 [==============================] - 57s 70ms/step - loss: 0.4691 - accuracy: 0.8075 - val_loss: 0.5105 - val_accuracy: 0.7938 - lr: 1.0000e-04\n",
            "Epoch 10/25\n",
            "807/807 [==============================] - 57s 71ms/step - loss: 0.4603 - accuracy: 0.8088 - val_loss: 0.4901 - val_accuracy: 0.8011 - lr: 1.0000e-04\n",
            "Epoch 11/25\n",
            "807/807 [==============================] - 60s 74ms/step - loss: 0.4409 - accuracy: 0.8229 - val_loss: 0.4831 - val_accuracy: 0.8095 - lr: 1.0000e-04\n",
            "Epoch 12/25\n",
            "807/807 [==============================] - 59s 72ms/step - loss: 0.4266 - accuracy: 0.8275 - val_loss: 0.5119 - val_accuracy: 0.7952 - lr: 1.0000e-04\n",
            "Epoch 13/25\n",
            "807/807 [==============================] - 58s 71ms/step - loss: 0.4110 - accuracy: 0.8329 - val_loss: 0.4819 - val_accuracy: 0.8056 - lr: 1.0000e-04\n",
            "Epoch 14/25\n",
            "807/807 [==============================] - 59s 73ms/step - loss: 0.3985 - accuracy: 0.8408 - val_loss: 0.5035 - val_accuracy: 0.8067 - lr: 1.0000e-04\n",
            "Epoch 15/25\n",
            "807/807 [==============================] - 59s 72ms/step - loss: 0.3840 - accuracy: 0.8450 - val_loss: 0.4898 - val_accuracy: 0.8070 - lr: 1.0000e-04\n",
            "Epoch 16/25\n",
            "807/807 [==============================] - 60s 74ms/step - loss: 0.3723 - accuracy: 0.8523 - val_loss: 0.5852 - val_accuracy: 0.7823 - lr: 1.0000e-04\n",
            "Epoch 17/25\n",
            "807/807 [==============================] - 58s 71ms/step - loss: 0.3573 - accuracy: 0.8575 - val_loss: 0.5007 - val_accuracy: 0.8070 - lr: 1.0000e-04\n",
            "Epoch 18/25\n",
            "807/807 [==============================] - 65s 80ms/step - loss: 0.3410 - accuracy: 0.8665 - val_loss: 0.5016 - val_accuracy: 0.8130 - lr: 1.0000e-04\n",
            "Epoch 19/25\n",
            "807/807 [==============================] - 60s 74ms/step - loss: 0.3290 - accuracy: 0.8677 - val_loss: 0.5816 - val_accuracy: 0.8123 - lr: 1.0000e-04\n",
            "Epoch 20/25\n",
            "807/807 [==============================] - 59s 73ms/step - loss: 0.3207 - accuracy: 0.8739 - val_loss: 0.5176 - val_accuracy: 0.8095 - lr: 1.0000e-04\n",
            "Epoch 21/25\n",
            "807/807 [==============================] - 59s 73ms/step - loss: 0.3043 - accuracy: 0.8807 - val_loss: 0.5246 - val_accuracy: 0.8102 - lr: 1.0000e-04\n",
            "Epoch 22/25\n",
            "807/807 [==============================] - 59s 73ms/step - loss: 0.2965 - accuracy: 0.8840 - val_loss: 0.5521 - val_accuracy: 0.8070 - lr: 1.0000e-04\n",
            "Epoch 23/25\n",
            "807/807 [==============================] - 59s 73ms/step - loss: 0.2869 - accuracy: 0.8858 - val_loss: 0.5230 - val_accuracy: 0.8220 - lr: 1.0000e-04\n",
            "Epoch 24/25\n",
            "807/807 [==============================] - 60s 74ms/step - loss: 0.2723 - accuracy: 0.8950 - val_loss: 0.5221 - val_accuracy: 0.8178 - lr: 1.0000e-04\n",
            "Epoch 25/25\n",
            "807/807 [==============================] - 59s 73ms/step - loss: 0.2663 - accuracy: 0.8941 - val_loss: 0.5066 - val_accuracy: 0.8220 - lr: 1.0000e-04\n"
          ]
        }
      ]
    },
    {
      "cell_type": "code",
      "source": [
        "model_yaml = model.to_json()\n",
        "with open(\"model.yaml\", \"w\") as yaml_file:\n",
        "    yaml_file.write(model_yaml)\n",
        "\n",
        "model.save(\"model.h5\")"
      ],
      "metadata": {
        "id": "JuQEHFHXbk3b"
      },
      "id": "JuQEHFHXbk3b",
      "execution_count": null,
      "outputs": []
    },
    {
      "cell_type": "code",
      "source": [
        "sns.set()\n",
        "fig = pyplot.figure(0, (12, 4))\n",
        "\n",
        "ax = pyplot.subplot(1, 2, 1)\n",
        "sns.lineplot(x=history.epoch, y=history.history['accuracy'], label='train')\n",
        "sns.lineplot(x=history.epoch, y=history.history['val_accuracy'], label='valid')\n",
        "pyplot.title('Accuracy')\n",
        "pyplot.tight_layout()\n",
        "\n",
        "ax = pyplot.subplot(1, 2, 2)\n",
        "sns.lineplot(x=history.epoch, y=history.history['loss'], label='train')\n",
        "sns.lineplot(x=history.epoch, y=history.history['val_loss'], label='valid')\n",
        "pyplot.title('Loss')\n",
        "pyplot.tight_layout()\n",
        "\n",
        "pyplot.savefig('epoch_history_dcnn.png')\n",
        "pyplot.show()"
      ],
      "metadata": {
        "colab": {
          "base_uri": "https://localhost:8080/",
          "height": 401
        },
        "id": "i2OjOUmdbsNL",
        "outputId": "ffc1b66e-10d3-4c70-8c54-6cd3524b4398"
      },
      "id": "i2OjOUmdbsNL",
      "execution_count": null,
      "outputs": [
        {
          "output_type": "display_data",
          "data": {
            "text/plain": [
              "<Figure size 1200x400 with 2 Axes>"
            ],
            "image/png": "[encoded data removed]"
          },
          "metadata": {}
        }
      ]
    },
    {
      "cell_type": "code",
      "source": [],
      "metadata": {
        "id": "Gqn8HTPvRega"
      },
      "id": "Gqn8HTPvRega",
      "execution_count": null,
      "outputs": []
    }
  ],
  "metadata": {
    "kernelspec": {
      "display_name": "Python 3",
      "name": "python3"
    },
    "language_info": {
      "codemirror_mode": {
        "name": "ipython",
        "version": 3
      },
      "file_extension": ".py",
      "mimetype": "text/x-python",
      "name": "python",
      "nbconvert_exporter": "python",
      "pygments_lexer": "ipython3",
      "version": "3.9.16"
    },
    "colab": {
      "provenance": [],
      "gpuType": "T4"
    },
    "accelerator": "GPU"
  },
  "nbformat": 4,
  "nbformat_minor": 5
}